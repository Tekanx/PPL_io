{
  "nbformat": 4,
  "nbformat_minor": 0,
  "metadata": {
    "colab": {
      "provenance": [],
      "collapsed_sections": [],
      "include_colab_link": true
    },
    "kernelspec": {
      "name": "python3",
      "display_name": "Python 3"
    },
    "language_info": {
      "name": "python"
    }
  },
  "cells": [
    {
      "cell_type": "markdown",
      "metadata": {
        "id": "view-in-github",
        "colab_type": "text"
      },
      "source": [
        "<a href=\"https://colab.research.google.com/github/Tekanx/PPL_io/blob/main/source.ipynb\" target=\"_parent\"><img src=\"https://colab.research.google.com/assets/colab-badge.svg\" alt=\"Open In Colab\"/></a>"
      ]
    },
    {
      "cell_type": "markdown",
      "source": [
        "*x* e *y* son nuestras variables de decisión.\n",
        "\n",
        "La función que será optimizada será z, donde nuestro problema de programación lineal será de maximización"
      ],
      "metadata": {
        "id": "CGj9c3RRYvc5"
      }
    },
    {
      "cell_type": "code",
      "execution_count": null,
      "metadata": {
        "id": "RIMyVQWlW-CO"
      },
      "outputs": [],
      "source": [
        "#import numPy, panda, matgraph(?)\n",
        "x = float(input(\"Ingrese variable de decisión x\"))\n",
        "y = float(input(\"Ingrese variable de decisión y\"))\n",
        "\n"
      ]
    },
    {
      "cell_type": "code",
      "source": [],
      "metadata": {
        "id": "vryi7RNZYuu2"
      },
      "execution_count": null,
      "outputs": []
    }
  ]
}